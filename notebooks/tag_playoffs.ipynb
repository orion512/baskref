{
 "cells": [
  {
   "cell_type": "markdown",
   "metadata": {},
   "source": [
    "# Tagging Playoff Games\n",
    "\n",
    "Baskref currently supports scrapping games from the entire season (mode gs) and scraping games from just the playoffs (mode gp).\n",
    "One option is to run both modes and use the playoff results and cross-check them with the results from the entire season\n",
    "to see which games from the regular season and which from the playoffs.\n",
    "\n",
    "However if you prefer not to scrape the same data twice this notebook only scrapes the urls of playoff games which can also be used to cross-check the data\n",
    "from the entire season but is accomplished significantly faster."
   ]
  },
  {
   "cell_type": "code",
   "execution_count": 6,
   "metadata": {},
   "outputs": [],
   "source": [
    "import os\n",
    "import argparse\n",
    "from datetime import date\n",
    "from baskref.data_collection import BaskRefUrlScraper\n",
    "from baskref.data_saving.file_saver import save_file_from_list\n",
    "\n",
    "parser = argparse.ArgumentParser()\n",
    "\n",
    "parser.add_argument(\n",
    "    \"-y\",\n",
    "    \"--year\",\n",
    "    help=\"Year of the NBA postseason.\",\n",
    "    default=date.today().year,\n",
    "    type=int,\n",
    ")\n",
    "\n",
    "parser.add_argument(\n",
    "    \"-fp\",\n",
    "    \"--file_path\",\n",
    "    help=\"Path to where the results file will be saved\",\n",
    "    default=os.getcwd(),\n",
    "    type=str,\n",
    ")\n",
    "\n",
    "parameters = parser.parse_args()\n",
    "\n",
    "save_path = parameters.file_path\n",
    "year = parameters.year\n",
    "\n",
    "full_save_path = os.path.join(save_path, f\"gpu_{year}.csv\")\n",
    "\n",
    "url_scraper = BaskRefUrlScraper()\n",
    "year_playoff_game_urls = url_scraper.get_game_urls_playoffs(year)\n",
    "arrdic_urls = [{\"url\": url} for url in year_playoff_game_urls]\n",
    "save_file_from_list(arrdic_urls, full_save_path)"
   ]
  }
 ],
 "metadata": {
  "kernelspec": {
   "display_name": "Python 3.10.4 ('venv': venv)",
   "language": "python",
   "name": "python3"
  },
  "language_info": {
   "codemirror_mode": {
    "name": "ipython",
    "version": 3
   },
   "file_extension": ".py",
   "mimetype": "text/x-python",
   "name": "python",
   "nbconvert_exporter": "python",
   "pygments_lexer": "ipython3",
   "version": "3.10.4"
  },
  "orig_nbformat": 4,
  "vscode": {
   "interpreter": {
    "hash": "279a21783db34fa2c30d87f95b617a48d50ac6fc323e3391f0c27a46bf33b304"
   }
  }
 },
 "nbformat": 4,
 "nbformat_minor": 2
}
