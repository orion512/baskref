{
 "cells": [
  {
   "cell_type": "code",
   "execution_count": 2,
   "metadata": {},
   "outputs": [
    {
     "ename": "ModuleNotFoundError",
     "evalue": "No module named 'bs4'",
     "output_type": "error",
     "traceback": [
      "\u001b[1;31m---------------------------------------------------------------------------\u001b[0m",
      "\u001b[1;31mModuleNotFoundError\u001b[0m                       Traceback (most recent call last)",
      "Cell \u001b[1;32mIn[2], line 2\u001b[0m\n\u001b[0;32m      1\u001b[0m \u001b[39mimport\u001b[39;00m \u001b[39mrequests\u001b[39;00m\n\u001b[1;32m----> 2\u001b[0m \u001b[39mfrom\u001b[39;00m \u001b[39mbs4\u001b[39;00m \u001b[39mimport\u001b[39;00m BeautifulSoup\n",
      "\u001b[1;31mModuleNotFoundError\u001b[0m: No module named 'bs4'"
     ]
    }
   ],
   "source": [
    "import requests\n",
    "from bs4 import BeautifulSoup"
   ]
  },
  {
   "cell_type": "code",
   "execution_count": 3,
   "metadata": {},
   "outputs": [],
   "source": [
    "page = requests.get('https://www.basketball-reference.com/boxscores/202212060CLE.html')"
   ]
  },
  {
   "cell_type": "code",
   "execution_count": 4,
   "metadata": {},
   "outputs": [],
   "source": [
    "html = BeautifulSoup(page.text, \"html.parser\")"
   ]
  },
  {
   "cell_type": "code",
   "execution_count": 8,
   "metadata": {},
   "outputs": [
    {
     "data": {
      "text/plain": [
       "('Cleveland Cavaliers', 'CLE')"
      ]
     },
     "execution_count": 8,
     "metadata": {},
     "output_type": "execute_result"
    }
   ],
   "source": [
    "team='home'\n",
    "\n",
    "if team not in [\"home\", \"away\"]:\n",
    "    raise ValueError('The team argument can only be \"home\" or \"away\"')\n",
    "\n",
    "team_idx = 2 if team == \"home\" else 1\n",
    "\n",
    "team_anchor = html.select_one(\n",
    "    f\"#content > div.scorebox > div:nth-child({team_idx}) \"\n",
    "    \"> div:nth-child(1) > strong > a\"\n",
    ")\n",
    "\n",
    "team_anchor.text, team_anchor.attrs[\"href\"].split(\"/\")[2]"
   ]
  },
  {
   "cell_type": "code",
   "execution_count": 24,
   "metadata": {},
   "outputs": [
    {
     "name": "stderr",
     "output_type": "stream",
     "text": [
      "Error occurred during loading data. Trying to use cache server https://fake-useragent.herokuapp.com/browsers/0.1.11\n",
      "Traceback (most recent call last):\n",
      "  File \"c:\\Users\\Dominik\\AppData\\Local\\Programs\\Python\\Python310\\lib\\site-packages\\fake_useragent\\utils.py\", line 154, in load\n",
      "    for item in get_browsers(verify_ssl=verify_ssl):\n",
      "  File \"c:\\Users\\Dominik\\AppData\\Local\\Programs\\Python\\Python310\\lib\\site-packages\\fake_useragent\\utils.py\", line 99, in get_browsers\n",
      "    html = html.split('<table class=\"w3-table-all notranslate\">')[1]\n",
      "IndexError: list index out of range\n"
     ]
    },
    {
     "ename": "FakeUserAgentError",
     "evalue": "Maximum amount of retries reached",
     "output_type": "error",
     "traceback": [
      "\u001b[1;31m---------------------------------------------------------------------------\u001b[0m",
      "\u001b[1;31mIndexError\u001b[0m                                Traceback (most recent call last)",
      "File \u001b[1;32mc:\\Users\\Dominik\\AppData\\Local\\Programs\\Python\\Python310\\lib\\site-packages\\fake_useragent\\utils.py:154\u001b[0m, in \u001b[0;36mload\u001b[1;34m(use_cache_server, verify_ssl)\u001b[0m\n\u001b[0;32m    153\u001b[0m \u001b[39mtry\u001b[39;00m:\n\u001b[1;32m--> 154\u001b[0m     \u001b[39mfor\u001b[39;00m item \u001b[39min\u001b[39;00m get_browsers(verify_ssl\u001b[39m=\u001b[39;49mverify_ssl):\n\u001b[0;32m    155\u001b[0m         browser, percent \u001b[39m=\u001b[39m item\n",
      "File \u001b[1;32mc:\\Users\\Dominik\\AppData\\Local\\Programs\\Python\\Python310\\lib\\site-packages\\fake_useragent\\utils.py:99\u001b[0m, in \u001b[0;36mget_browsers\u001b[1;34m(verify_ssl)\u001b[0m\n\u001b[0;32m     98\u001b[0m html \u001b[39m=\u001b[39m html\u001b[39m.\u001b[39mdecode(\u001b[39m'\u001b[39m\u001b[39mutf-8\u001b[39m\u001b[39m'\u001b[39m)\n\u001b[1;32m---> 99\u001b[0m html \u001b[39m=\u001b[39m html\u001b[39m.\u001b[39;49msplit(\u001b[39m'\u001b[39;49m\u001b[39m<table class=\u001b[39;49m\u001b[39m\"\u001b[39;49m\u001b[39mw3-table-all notranslate\u001b[39;49m\u001b[39m\"\u001b[39;49m\u001b[39m>\u001b[39;49m\u001b[39m'\u001b[39;49m)[\u001b[39m1\u001b[39;49m]\n\u001b[0;32m    100\u001b[0m html \u001b[39m=\u001b[39m html\u001b[39m.\u001b[39msplit(\u001b[39m'\u001b[39m\u001b[39m</table>\u001b[39m\u001b[39m'\u001b[39m)[\u001b[39m0\u001b[39m]\n",
      "\u001b[1;31mIndexError\u001b[0m: list index out of range",
      "\nDuring handling of the above exception, another exception occurred:\n",
      "\u001b[1;31mHTTPError\u001b[0m                                 Traceback (most recent call last)",
      "File \u001b[1;32mc:\\Users\\Dominik\\AppData\\Local\\Programs\\Python\\Python310\\lib\\site-packages\\fake_useragent\\utils.py:64\u001b[0m, in \u001b[0;36mget\u001b[1;34m(url, verify_ssl)\u001b[0m\n\u001b[0;32m     62\u001b[0m     context \u001b[39m=\u001b[39m \u001b[39mNone\u001b[39;00m\n\u001b[1;32m---> 64\u001b[0m \u001b[39mwith\u001b[39;00m contextlib\u001b[39m.\u001b[39mclosing(urlopen(\n\u001b[0;32m     65\u001b[0m     request,\n\u001b[0;32m     66\u001b[0m     timeout\u001b[39m=\u001b[39;49msettings\u001b[39m.\u001b[39;49mHTTP_TIMEOUT,\n\u001b[0;32m     67\u001b[0m     context\u001b[39m=\u001b[39;49mcontext,\n\u001b[0;32m     68\u001b[0m )) \u001b[39mas\u001b[39;00m response:\n\u001b[0;32m     69\u001b[0m     \u001b[39mreturn\u001b[39;00m response\u001b[39m.\u001b[39mread()\n",
      "File \u001b[1;32mc:\\Users\\Dominik\\AppData\\Local\\Programs\\Python\\Python310\\lib\\urllib\\request.py:216\u001b[0m, in \u001b[0;36murlopen\u001b[1;34m(url, data, timeout, cafile, capath, cadefault, context)\u001b[0m\n\u001b[0;32m    215\u001b[0m     opener \u001b[39m=\u001b[39m _opener\n\u001b[1;32m--> 216\u001b[0m \u001b[39mreturn\u001b[39;00m opener\u001b[39m.\u001b[39;49mopen(url, data, timeout)\n",
      "File \u001b[1;32mc:\\Users\\Dominik\\AppData\\Local\\Programs\\Python\\Python310\\lib\\urllib\\request.py:525\u001b[0m, in \u001b[0;36mOpenerDirector.open\u001b[1;34m(self, fullurl, data, timeout)\u001b[0m\n\u001b[0;32m    524\u001b[0m     meth \u001b[39m=\u001b[39m \u001b[39mgetattr\u001b[39m(processor, meth_name)\n\u001b[1;32m--> 525\u001b[0m     response \u001b[39m=\u001b[39m meth(req, response)\n\u001b[0;32m    527\u001b[0m \u001b[39mreturn\u001b[39;00m response\n",
      "File \u001b[1;32mc:\\Users\\Dominik\\AppData\\Local\\Programs\\Python\\Python310\\lib\\urllib\\request.py:634\u001b[0m, in \u001b[0;36mHTTPErrorProcessor.http_response\u001b[1;34m(self, request, response)\u001b[0m\n\u001b[0;32m    633\u001b[0m \u001b[39mif\u001b[39;00m \u001b[39mnot\u001b[39;00m (\u001b[39m200\u001b[39m \u001b[39m<\u001b[39m\u001b[39m=\u001b[39m code \u001b[39m<\u001b[39m \u001b[39m300\u001b[39m):\n\u001b[1;32m--> 634\u001b[0m     response \u001b[39m=\u001b[39m \u001b[39mself\u001b[39;49m\u001b[39m.\u001b[39;49mparent\u001b[39m.\u001b[39;49merror(\n\u001b[0;32m    635\u001b[0m         \u001b[39m'\u001b[39;49m\u001b[39mhttp\u001b[39;49m\u001b[39m'\u001b[39;49m, request, response, code, msg, hdrs)\n\u001b[0;32m    637\u001b[0m \u001b[39mreturn\u001b[39;00m response\n",
      "File \u001b[1;32mc:\\Users\\Dominik\\AppData\\Local\\Programs\\Python\\Python310\\lib\\urllib\\request.py:563\u001b[0m, in \u001b[0;36mOpenerDirector.error\u001b[1;34m(self, proto, *args)\u001b[0m\n\u001b[0;32m    562\u001b[0m args \u001b[39m=\u001b[39m (\u001b[39mdict\u001b[39m, \u001b[39m'\u001b[39m\u001b[39mdefault\u001b[39m\u001b[39m'\u001b[39m, \u001b[39m'\u001b[39m\u001b[39mhttp_error_default\u001b[39m\u001b[39m'\u001b[39m) \u001b[39m+\u001b[39m orig_args\n\u001b[1;32m--> 563\u001b[0m \u001b[39mreturn\u001b[39;00m \u001b[39mself\u001b[39;49m\u001b[39m.\u001b[39;49m_call_chain(\u001b[39m*\u001b[39;49margs)\n",
      "File \u001b[1;32mc:\\Users\\Dominik\\AppData\\Local\\Programs\\Python\\Python310\\lib\\urllib\\request.py:496\u001b[0m, in \u001b[0;36mOpenerDirector._call_chain\u001b[1;34m(self, chain, kind, meth_name, *args)\u001b[0m\n\u001b[0;32m    495\u001b[0m func \u001b[39m=\u001b[39m \u001b[39mgetattr\u001b[39m(handler, meth_name)\n\u001b[1;32m--> 496\u001b[0m result \u001b[39m=\u001b[39m func(\u001b[39m*\u001b[39;49margs)\n\u001b[0;32m    497\u001b[0m \u001b[39mif\u001b[39;00m result \u001b[39mis\u001b[39;00m \u001b[39mnot\u001b[39;00m \u001b[39mNone\u001b[39;00m:\n",
      "File \u001b[1;32mc:\\Users\\Dominik\\AppData\\Local\\Programs\\Python\\Python310\\lib\\urllib\\request.py:643\u001b[0m, in \u001b[0;36mHTTPDefaultErrorHandler.http_error_default\u001b[1;34m(self, req, fp, code, msg, hdrs)\u001b[0m\n\u001b[0;32m    642\u001b[0m \u001b[39mdef\u001b[39;00m \u001b[39mhttp_error_default\u001b[39m(\u001b[39mself\u001b[39m, req, fp, code, msg, hdrs):\n\u001b[1;32m--> 643\u001b[0m     \u001b[39mraise\u001b[39;00m HTTPError(req\u001b[39m.\u001b[39mfull_url, code, msg, hdrs, fp)\n",
      "\u001b[1;31mHTTPError\u001b[0m: HTTP Error 503: Service Unavailable",
      "\nDuring handling of the above exception, another exception occurred:\n",
      "\u001b[1;31mFakeUserAgentError\u001b[0m                        Traceback (most recent call last)",
      "\u001b[1;32mc:\\Users\\Dominik\\Documents\\Projects\\baskref\\notebooks\\code_tester.ipynb Cell 5\u001b[0m in \u001b[0;36m<cell line: 3>\u001b[1;34m()\u001b[0m\n\u001b[0;32m      <a href='vscode-notebook-cell:/c%3A/Users/Dominik/Documents/Projects/baskref/notebooks/code_tester.ipynb#W4sZmlsZQ%3D%3D?line=0'>1</a>\u001b[0m \u001b[39mfrom\u001b[39;00m \u001b[39mfake_useragent\u001b[39;00m \u001b[39mimport\u001b[39;00m UserAgent\n\u001b[1;32m----> <a href='vscode-notebook-cell:/c%3A/Users/Dominik/Documents/Projects/baskref/notebooks/code_tester.ipynb#W4sZmlsZQ%3D%3D?line=2'>3</a>\u001b[0m ua \u001b[39m=\u001b[39m UserAgent()\n",
      "File \u001b[1;32mc:\\Users\\Dominik\\AppData\\Local\\Programs\\Python\\Python310\\lib\\site-packages\\fake_useragent\\fake.py:69\u001b[0m, in \u001b[0;36mFakeUserAgent.__init__\u001b[1;34m(self, cache, use_cache_server, path, fallback, verify_ssl, safe_attrs)\u001b[0m\n\u001b[0;32m     66\u001b[0m \u001b[39mself\u001b[39m\u001b[39m.\u001b[39mdata_randomize \u001b[39m=\u001b[39m []\n\u001b[0;32m     67\u001b[0m \u001b[39mself\u001b[39m\u001b[39m.\u001b[39mdata_browsers \u001b[39m=\u001b[39m {}\n\u001b[1;32m---> 69\u001b[0m \u001b[39mself\u001b[39;49m\u001b[39m.\u001b[39;49mload()\n",
      "File \u001b[1;32mc:\\Users\\Dominik\\AppData\\Local\\Programs\\Python\\Python310\\lib\\site-packages\\fake_useragent\\fake.py:75\u001b[0m, in \u001b[0;36mFakeUserAgent.load\u001b[1;34m(self)\u001b[0m\n\u001b[0;32m     73\u001b[0m \u001b[39mwith\u001b[39;00m \u001b[39mself\u001b[39m\u001b[39m.\u001b[39mload\u001b[39m.\u001b[39mlock:\n\u001b[0;32m     74\u001b[0m     \u001b[39mif\u001b[39;00m \u001b[39mself\u001b[39m\u001b[39m.\u001b[39mcache:\n\u001b[1;32m---> 75\u001b[0m         \u001b[39mself\u001b[39m\u001b[39m.\u001b[39mdata \u001b[39m=\u001b[39m load_cached(\n\u001b[0;32m     76\u001b[0m             \u001b[39mself\u001b[39;49m\u001b[39m.\u001b[39;49mpath,\n\u001b[0;32m     77\u001b[0m             use_cache_server\u001b[39m=\u001b[39;49m\u001b[39mself\u001b[39;49m\u001b[39m.\u001b[39;49muse_cache_server,\n\u001b[0;32m     78\u001b[0m             verify_ssl\u001b[39m=\u001b[39;49m\u001b[39mself\u001b[39;49m\u001b[39m.\u001b[39;49mverify_ssl,\n\u001b[0;32m     79\u001b[0m         )\n\u001b[0;32m     80\u001b[0m     \u001b[39melse\u001b[39;00m:\n\u001b[0;32m     81\u001b[0m         \u001b[39mself\u001b[39m\u001b[39m.\u001b[39mdata \u001b[39m=\u001b[39m load(\n\u001b[0;32m     82\u001b[0m             use_cache_server\u001b[39m=\u001b[39m\u001b[39mself\u001b[39m\u001b[39m.\u001b[39muse_cache_server,\n\u001b[0;32m     83\u001b[0m             verify_ssl\u001b[39m=\u001b[39m\u001b[39mself\u001b[39m\u001b[39m.\u001b[39mverify_ssl,\n\u001b[0;32m     84\u001b[0m         )\n",
      "File \u001b[1;32mc:\\Users\\Dominik\\AppData\\Local\\Programs\\Python\\Python310\\lib\\site-packages\\fake_useragent\\utils.py:250\u001b[0m, in \u001b[0;36mload_cached\u001b[1;34m(path, use_cache_server, verify_ssl)\u001b[0m\n\u001b[0;32m    248\u001b[0m \u001b[39mdef\u001b[39;00m \u001b[39mload_cached\u001b[39m(path, use_cache_server\u001b[39m=\u001b[39m\u001b[39mTrue\u001b[39;00m, verify_ssl\u001b[39m=\u001b[39m\u001b[39mTrue\u001b[39;00m):\n\u001b[0;32m    249\u001b[0m     \u001b[39mif\u001b[39;00m \u001b[39mnot\u001b[39;00m exist(path):\n\u001b[1;32m--> 250\u001b[0m         update(path, use_cache_server\u001b[39m=\u001b[39;49muse_cache_server, verify_ssl\u001b[39m=\u001b[39;49mverify_ssl)\n\u001b[0;32m    252\u001b[0m     \u001b[39mreturn\u001b[39;00m read(path)\n",
      "File \u001b[1;32mc:\\Users\\Dominik\\AppData\\Local\\Programs\\Python\\Python310\\lib\\site-packages\\fake_useragent\\utils.py:245\u001b[0m, in \u001b[0;36mupdate\u001b[1;34m(path, use_cache_server, verify_ssl)\u001b[0m\n\u001b[0;32m    242\u001b[0m \u001b[39mdef\u001b[39;00m \u001b[39mupdate\u001b[39m(path, use_cache_server\u001b[39m=\u001b[39m\u001b[39mTrue\u001b[39;00m, verify_ssl\u001b[39m=\u001b[39m\u001b[39mTrue\u001b[39;00m):\n\u001b[0;32m    243\u001b[0m     rm(path)\n\u001b[1;32m--> 245\u001b[0m     write(path, load(use_cache_server\u001b[39m=\u001b[39;49muse_cache_server, verify_ssl\u001b[39m=\u001b[39;49mverify_ssl))\n",
      "File \u001b[1;32mc:\\Users\\Dominik\\AppData\\Local\\Programs\\Python\\Python310\\lib\\site-packages\\fake_useragent\\utils.py:187\u001b[0m, in \u001b[0;36mload\u001b[1;34m(use_cache_server, verify_ssl)\u001b[0m\n\u001b[0;32m    180\u001b[0m logger\u001b[39m.\u001b[39mwarning(\n\u001b[0;32m    181\u001b[0m     \u001b[39m'\u001b[39m\u001b[39mError occurred during loading data. \u001b[39m\u001b[39m'\u001b[39m\n\u001b[0;32m    182\u001b[0m     \u001b[39m'\u001b[39m\u001b[39mTrying to use cache server \u001b[39m\u001b[39m%s\u001b[39;00m\u001b[39m'\u001b[39m,\n\u001b[0;32m    183\u001b[0m     settings\u001b[39m.\u001b[39mCACHE_SERVER,\n\u001b[0;32m    184\u001b[0m     exc_info\u001b[39m=\u001b[39mexc,\n\u001b[0;32m    185\u001b[0m )\n\u001b[0;32m    186\u001b[0m \u001b[39mtry\u001b[39;00m:\n\u001b[1;32m--> 187\u001b[0m     ret \u001b[39m=\u001b[39m json\u001b[39m.\u001b[39mloads(get(\n\u001b[0;32m    188\u001b[0m         settings\u001b[39m.\u001b[39;49mCACHE_SERVER,\n\u001b[0;32m    189\u001b[0m         verify_ssl\u001b[39m=\u001b[39;49mverify_ssl,\n\u001b[0;32m    190\u001b[0m     )\u001b[39m.\u001b[39mdecode(\u001b[39m'\u001b[39m\u001b[39mutf-8\u001b[39m\u001b[39m'\u001b[39m))\n\u001b[0;32m    191\u001b[0m \u001b[39mexcept\u001b[39;00m (\u001b[39mTypeError\u001b[39;00m, \u001b[39mValueError\u001b[39;00m):\n\u001b[0;32m    192\u001b[0m     \u001b[39mraise\u001b[39;00m FakeUserAgentError(\u001b[39m'\u001b[39m\u001b[39mCan not load data from cache server\u001b[39m\u001b[39m'\u001b[39m)\n",
      "File \u001b[1;32mc:\\Users\\Dominik\\AppData\\Local\\Programs\\Python\\Python310\\lib\\site-packages\\fake_useragent\\utils.py:84\u001b[0m, in \u001b[0;36mget\u001b[1;34m(url, verify_ssl)\u001b[0m\n\u001b[0;32m     77\u001b[0m logger\u001b[39m.\u001b[39mdebug(\n\u001b[0;32m     78\u001b[0m     \u001b[39m'\u001b[39m\u001b[39mError occurred during fetching \u001b[39m\u001b[39m%s\u001b[39;00m\u001b[39m'\u001b[39m,\n\u001b[0;32m     79\u001b[0m     url,\n\u001b[0;32m     80\u001b[0m     exc_info\u001b[39m=\u001b[39mexc,\n\u001b[0;32m     81\u001b[0m )\n\u001b[0;32m     83\u001b[0m \u001b[39mif\u001b[39;00m attempt \u001b[39m==\u001b[39m settings\u001b[39m.\u001b[39mHTTP_RETRIES:\n\u001b[1;32m---> 84\u001b[0m     \u001b[39mraise\u001b[39;00m FakeUserAgentError(\u001b[39m'\u001b[39m\u001b[39mMaximum amount of retries reached\u001b[39m\u001b[39m'\u001b[39m)\n\u001b[0;32m     85\u001b[0m \u001b[39melse\u001b[39;00m:\n\u001b[0;32m     86\u001b[0m     logger\u001b[39m.\u001b[39mdebug(\n\u001b[0;32m     87\u001b[0m         \u001b[39m'\u001b[39m\u001b[39mSleeping for \u001b[39m\u001b[39m%s\u001b[39;00m\u001b[39m seconds\u001b[39m\u001b[39m'\u001b[39m,\n\u001b[0;32m     88\u001b[0m         settings\u001b[39m.\u001b[39mHTTP_DELAY,\n\u001b[0;32m     89\u001b[0m     )\n",
      "\u001b[1;31mFakeUserAgentError\u001b[0m: Maximum amount of retries reached"
     ]
    }
   ],
   "source": [
    "from fake_useragent import UserAgent\n",
    "\n",
    "ua = UserAgent()"
   ]
  }
 ],
 "metadata": {
  "kernelspec": {
   "display_name": "Python 3.10.4 ('venv': venv)",
   "language": "python",
   "name": "python3"
  },
  "language_info": {
   "codemirror_mode": {
    "name": "ipython",
    "version": 3
   },
   "file_extension": ".py",
   "mimetype": "text/x-python",
   "name": "python",
   "nbconvert_exporter": "python",
   "pygments_lexer": "ipython3",
   "version": "3.10.4"
  },
  "orig_nbformat": 4,
  "vscode": {
   "interpreter": {
    "hash": "884371f3183b8934bcdbd5d896bfa82e746711bedf65bf8209a0c486df09c0d2"
   }
  }
 },
 "nbformat": 4,
 "nbformat_minor": 2
}
