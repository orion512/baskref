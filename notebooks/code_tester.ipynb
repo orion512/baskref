{
 "cells": [
  {
   "cell_type": "code",
   "execution_count": 4,
   "metadata": {},
   "outputs": [],
   "source": [
    "import requests\n",
    "from bs4 import BeautifulSoup\n",
    "from datetime import datetime"
   ]
  },
  {
   "cell_type": "code",
   "execution_count": 23,
   "metadata": {},
   "outputs": [
    {
     "name": "stdout",
     "output_type": "stream",
     "text": [
      "200\n"
     ]
    }
   ],
   "source": [
    "# page = requests.get('https://www.basketball-reference.com/boxscores/200204120IND.html')\n",
    "\n",
    "headers =  None\n",
    "\n",
    "with requests.Session() as session:\n",
    "    page = session.get('https://www.basketball-reference.com/boxscores/200204120IND.html', proxies=None, headers=headers)\n",
    "\n",
    "print(page.status_code)"
   ]
  },
  {
   "cell_type": "code",
   "execution_count": 18,
   "metadata": {},
   "outputs": [],
   "source": [
    "html = BeautifulSoup(page.text, \"html.parser\")"
   ]
  },
  {
   "cell_type": "code",
   "execution_count": 19,
   "metadata": {},
   "outputs": [],
   "source": [
    "meta_holder = html.select_one(\"div.scorebox_meta\")\n",
    "# TODO: improve below nested try-catch\n",
    "try:\n",
    "    game_time = datetime.strptime(\n",
    "        meta_holder.find(\"div\").text, \"%I:%M %p, %B %d, %Y\"\n",
    "    )\n",
    "except ValueError:\n",
    "    try:\n",
    "        game_time = datetime.strptime(\n",
    "            meta_holder.find(\"div\").text, \"%B %d, %Y\"\n",
    "        )\n",
    "    except ValueError:\n",
    "        game_time = datetime(1900, 1, 1)\n",
    "\n",
    "arena_name = meta_holder.find_all(\"div\")[1].text.split(\",\")[0]\n",
    "\n",
    "playin_game = 'play-in' in html.select_one(\"#content > h1\").text.lower()\n",
    "\n",
    "return_stmt = {\n",
    "    \"game_time\": game_time,\n",
    "    \"arena_name\": arena_name,\n",
    "    \"playin_game\": playin_game\n",
    "}"
   ]
  },
  {
   "cell_type": "code",
   "execution_count": 20,
   "metadata": {},
   "outputs": [
    {
     "data": {
      "text/plain": [
       "{'game_time': datetime.datetime(2002, 4, 12, 20, 0),\n",
       " 'arena_name': 'Conseco Fieldhouse',\n",
       " 'playin_game': False}"
      ]
     },
     "execution_count": 20,
     "metadata": {},
     "output_type": "execute_result"
    }
   ],
   "source": [
    "return_stmt"
   ]
  },
  {
   "cell_type": "code",
   "execution_count": 16,
   "metadata": {},
   "outputs": [
    {
     "data": {
      "text/plain": [
       "{'home_team': 'home_team_sn',\n",
       " 'away_team': 'away_team_sn',\n",
       " 'home_team_full_name': 'home_team_fn',\n",
       " 'away_team_full_name': 'away_team_fn',\n",
       " 'game_time': datetime.datetime(2022, 4, 12, 19, 0),\n",
       " 'arena_name': 'Barclays Center',\n",
       " 'playin_game': True,\n",
       " 'attendance': 233412334}"
      ]
     },
     "execution_count": 16,
     "metadata": {},
     "output_type": "execute_result"
    }
   ],
   "source": [
    "{\n",
    "    \"home_team\": \"home_team_sn\",\n",
    "    \"away_team\": \"away_team_sn\",\n",
    "    \"home_team_full_name\": \"home_team_fn\",\n",
    "    \"away_team_full_name\": \"away_team_fn\",\n",
    "    **return_stmt,\n",
    "    \"attendance\": 233412334\n",
    "    }"
   ]
  }
 ],
 "metadata": {
  "kernelspec": {
   "display_name": "Python 3.10.4 ('venv': venv)",
   "language": "python",
   "name": "python3"
  },
  "language_info": {
   "codemirror_mode": {
    "name": "ipython",
    "version": 3
   },
   "file_extension": ".py",
   "mimetype": "text/x-python",
   "name": "python",
   "nbconvert_exporter": "python",
   "pygments_lexer": "ipython3",
   "version": "3.10.4"
  },
  "orig_nbformat": 4,
  "vscode": {
   "interpreter": {
    "hash": "279a21783db34fa2c30d87f95b617a48d50ac6fc323e3391f0c27a46bf33b304"
   }
  }
 },
 "nbformat": 4,
 "nbformat_minor": 2
}
