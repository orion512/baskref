{
 "cells": [
  {
   "cell_type": "code",
   "execution_count": 24,
   "metadata": {},
   "outputs": [],
   "source": [
    "import requests\n",
    "from bs4 import BeautifulSoup\n",
    "from datetime import datetime"
   ]
  },
  {
   "cell_type": "code",
   "execution_count": 25,
   "metadata": {},
   "outputs": [
    {
     "name": "stdout",
     "output_type": "stream",
     "text": [
      "200\n"
     ]
    }
   ],
   "source": [
    "# page = requests.get('https://www.basketball-reference.com/boxscores/200204120IND.html')\n",
    "\n",
    "headers =  None\n",
    "\n",
    "with requests.Session() as session:\n",
    "    page = session.get('https://www.basketball-reference.com/boxscores/200204120IND.html', proxies=None, headers=headers)\n",
    "\n",
    "print(page.status_code)"
   ]
  },
  {
   "cell_type": "code",
   "execution_count": 26,
   "metadata": {},
   "outputs": [],
   "source": [
    "html = BeautifulSoup(page.text, \"html.parser\")"
   ]
  },
  {
   "cell_type": "code",
   "execution_count": 35,
   "metadata": {},
   "outputs": [],
   "source": [
    "table_finder = f\"#box-IND-game-basic\"\n",
    "\n",
    "table = html.select_one(table_finder)\n",
    "tb_foot = table.select(\"tbody > tr\")\n",
    "#box-IND-game-basic > tbody > tr.thead"
   ]
  },
  {
   "cell_type": "code",
   "execution_count": 36,
   "metadata": {},
   "outputs": [
    {
     "data": {
      "text/plain": [
       "13"
      ]
     },
     "execution_count": 36,
     "metadata": {},
     "output_type": "execute_result"
    }
   ],
   "source": [
    "len(tb_foot)"
   ]
  },
  {
   "cell_type": "code",
   "execution_count": 43,
   "metadata": {},
   "outputs": [
    {
     "data": {
      "text/plain": [
       "[<tr><th class=\"left\" csk=\"O'Neal,Jermaine\" data-append-csv=\"onealje01\" data-stat=\"player\" scope=\"row\"><a href=\"/players/o/onealje01.html\">Jermaine O'Neal</a></th><td class=\"right\" csk=\"2680\" data-stat=\"mp\">44:40</td><td class=\"right\" data-stat=\"fg\">8</td><td class=\"right\" data-stat=\"fga\">14</td><td class=\"right\" data-stat=\"fg_pct\">.571</td><td class=\"right iz\" data-stat=\"fg3\">0</td><td class=\"right iz\" data-stat=\"fg3a\">0</td><td class=\"right iz\" data-stat=\"fg3_pct\"></td><td class=\"right\" data-stat=\"ft\">4</td><td class=\"right\" data-stat=\"fta\">6</td><td class=\"right\" data-stat=\"ft_pct\">.667</td><td class=\"right\" data-stat=\"orb\">1</td><td class=\"right\" data-stat=\"drb\">12</td><td class=\"right\" data-stat=\"trb\">13</td><td class=\"right\" data-stat=\"ast\">3</td><td class=\"right iz\" data-stat=\"stl\">0</td><td class=\"right iz\" data-stat=\"blk\">0</td><td class=\"right\" data-stat=\"tov\">3</td><td class=\"right\" data-stat=\"pf\">4</td><td class=\"right\" data-stat=\"pts\">20</td><td class=\"right\" data-stat=\"plus_minus\">+3</td></tr>,\n",
       " <tr><th class=\"left\" csk=\"Miller,Brad\" data-append-csv=\"millebr01\" data-stat=\"player\" scope=\"row\"><a href=\"/players/m/millebr01.html\">Brad Miller</a></th><td class=\"right\" csk=\"2629\" data-stat=\"mp\">43:49</td><td class=\"right\" data-stat=\"fg\">8</td><td class=\"right\" data-stat=\"fga\">12</td><td class=\"right\" data-stat=\"fg_pct\">.667</td><td class=\"right iz\" data-stat=\"fg3\">0</td><td class=\"right iz\" data-stat=\"fg3a\">0</td><td class=\"right iz\" data-stat=\"fg3_pct\"></td><td class=\"right\" data-stat=\"ft\">8</td><td class=\"right\" data-stat=\"fta\">10</td><td class=\"right\" data-stat=\"ft_pct\">.800</td><td class=\"right iz\" data-stat=\"orb\">0</td><td class=\"right\" data-stat=\"drb\">8</td><td class=\"right\" data-stat=\"trb\">8</td><td class=\"right\" data-stat=\"ast\">3</td><td class=\"right\" data-stat=\"stl\">2</td><td class=\"right\" data-stat=\"blk\">1</td><td class=\"right\" data-stat=\"tov\">1</td><td class=\"right\" data-stat=\"pf\">2</td><td class=\"right\" data-stat=\"pts\">24</td><td class=\"right\" data-stat=\"plus_minus\">+5</td></tr>,\n",
       " <tr><th class=\"left\" csk=\"Miller,Reggie\" data-append-csv=\"millere01\" data-stat=\"player\" scope=\"row\"><a href=\"/players/m/millere01.html\">Reggie Miller</a></th><td class=\"right\" csk=\"2555\" data-stat=\"mp\">42:35</td><td class=\"right\" data-stat=\"fg\">9</td><td class=\"right\" data-stat=\"fga\">18</td><td class=\"right\" data-stat=\"fg_pct\">.500</td><td class=\"right\" data-stat=\"fg3\">5</td><td class=\"right\" data-stat=\"fg3a\">9</td><td class=\"right\" data-stat=\"fg3_pct\">.556</td><td class=\"right\" data-stat=\"ft\">7</td><td class=\"right\" data-stat=\"fta\">7</td><td class=\"right\" data-stat=\"ft_pct\">1.000</td><td class=\"right iz\" data-stat=\"orb\">0</td><td class=\"right\" data-stat=\"drb\">3</td><td class=\"right\" data-stat=\"trb\">3</td><td class=\"right\" data-stat=\"ast\">4</td><td class=\"right\" data-stat=\"stl\">1</td><td class=\"right iz\" data-stat=\"blk\">0</td><td class=\"right\" data-stat=\"tov\">4</td><td class=\"right\" data-stat=\"pf\">1</td><td class=\"right\" data-stat=\"pts\">30</td><td class=\"right\" data-stat=\"plus_minus\">+7</td></tr>,\n",
       " <tr><th class=\"left\" csk=\"Tinsley,Jamaal\" data-append-csv=\"tinslja01\" data-stat=\"player\" scope=\"row\"><a href=\"/players/t/tinslja01.html\">Jamaal Tinsley</a></th><td class=\"right\" csk=\"1473\" data-stat=\"mp\">24:33</td><td class=\"right\" data-stat=\"fg\">1</td><td class=\"right\" data-stat=\"fga\">6</td><td class=\"right\" data-stat=\"fg_pct\">.167</td><td class=\"right iz\" data-stat=\"fg3\">0</td><td class=\"right\" data-stat=\"fg3a\">2</td><td class=\"right iz\" data-stat=\"fg3_pct\">.000</td><td class=\"right\" data-stat=\"ft\">2</td><td class=\"right\" data-stat=\"fta\">2</td><td class=\"right\" data-stat=\"ft_pct\">1.000</td><td class=\"right\" data-stat=\"orb\">1</td><td class=\"right\" data-stat=\"drb\">2</td><td class=\"right\" data-stat=\"trb\">3</td><td class=\"right\" data-stat=\"ast\">9</td><td class=\"right\" data-stat=\"stl\">1</td><td class=\"right\" data-stat=\"blk\">1</td><td class=\"right\" data-stat=\"tov\">1</td><td class=\"right\" data-stat=\"pf\">2</td><td class=\"right\" data-stat=\"pts\">4</td><td class=\"right\" data-stat=\"plus_minus\">+3</td></tr>,\n",
       " <tr><th class=\"left\" csk=\"World Peace,Metta\" data-append-csv=\"artesro01\" data-stat=\"player\" scope=\"row\"><a href=\"/players/a/artesro01.html\">Metta World Peace</a></th><td class=\"right\" csk=\"1356\" data-stat=\"mp\">22:36</td><td class=\"right\" data-stat=\"fg\">1</td><td class=\"right\" data-stat=\"fga\">4</td><td class=\"right\" data-stat=\"fg_pct\">.250</td><td class=\"right iz\" data-stat=\"fg3\">0</td><td class=\"right\" data-stat=\"fg3a\">1</td><td class=\"right iz\" data-stat=\"fg3_pct\">.000</td><td class=\"right\" data-stat=\"ft\">1</td><td class=\"right\" data-stat=\"fta\">2</td><td class=\"right\" data-stat=\"ft_pct\">.500</td><td class=\"right iz\" data-stat=\"orb\">0</td><td class=\"right\" data-stat=\"drb\">2</td><td class=\"right\" data-stat=\"trb\">2</td><td class=\"right\" data-stat=\"ast\">2</td><td class=\"right iz\" data-stat=\"stl\">0</td><td class=\"right iz\" data-stat=\"blk\">0</td><td class=\"right\" data-stat=\"tov\">2</td><td class=\"right\" data-stat=\"pf\">5</td><td class=\"right\" data-stat=\"pts\">3</td><td class=\"right\" data-stat=\"plus_minus\">-5</td></tr>,\n",
       " <tr><th class=\"left\" csk=\"Bender,Jonathan\" data-append-csv=\"bendejo01\" data-stat=\"player\" scope=\"row\"><a href=\"/players/b/bendejo01.html\">Jonathan Bender</a></th><td class=\"right\" csk=\"2449\" data-stat=\"mp\">40:49</td><td class=\"right\" data-stat=\"fg\">6</td><td class=\"right\" data-stat=\"fga\">9</td><td class=\"right\" data-stat=\"fg_pct\">.667</td><td class=\"right\" data-stat=\"fg3\">2</td><td class=\"right\" data-stat=\"fg3a\">3</td><td class=\"right\" data-stat=\"fg3_pct\">.667</td><td class=\"right\" data-stat=\"ft\">2</td><td class=\"right\" data-stat=\"fta\">2</td><td class=\"right\" data-stat=\"ft_pct\">1.000</td><td class=\"right\" data-stat=\"orb\">1</td><td class=\"right\" data-stat=\"drb\">3</td><td class=\"right\" data-stat=\"trb\">4</td><td class=\"right\" data-stat=\"ast\">3</td><td class=\"right iz\" data-stat=\"stl\">0</td><td class=\"right iz\" data-stat=\"blk\">0</td><td class=\"right\" data-stat=\"tov\">1</td><td class=\"right\" data-stat=\"pf\">3</td><td class=\"right\" data-stat=\"pts\">16</td><td class=\"right\" data-stat=\"plus_minus\">+8</td></tr>,\n",
       " <tr><th class=\"left\" csk=\"Ollie,Kevin\" data-append-csv=\"ollieke01\" data-stat=\"player\" scope=\"row\"><a href=\"/players/o/ollieke01.html\">Kevin Ollie</a></th><td class=\"right\" csk=\"1731\" data-stat=\"mp\">28:51</td><td class=\"right\" data-stat=\"fg\">2</td><td class=\"right\" data-stat=\"fga\">2</td><td class=\"right\" data-stat=\"fg_pct\">1.000</td><td class=\"right iz\" data-stat=\"fg3\">0</td><td class=\"right iz\" data-stat=\"fg3a\">0</td><td class=\"right iz\" data-stat=\"fg3_pct\"></td><td class=\"right\" data-stat=\"ft\">3</td><td class=\"right\" data-stat=\"fta\">3</td><td class=\"right\" data-stat=\"ft_pct\">1.000</td><td class=\"right iz\" data-stat=\"orb\">0</td><td class=\"right\" data-stat=\"drb\">1</td><td class=\"right\" data-stat=\"trb\">1</td><td class=\"right\" data-stat=\"ast\">4</td><td class=\"right iz\" data-stat=\"stl\">0</td><td class=\"right iz\" data-stat=\"blk\">0</td><td class=\"right\" data-stat=\"tov\">1</td><td class=\"right\" data-stat=\"pf\">1</td><td class=\"right\" data-stat=\"pts\">7</td><td class=\"right iz\" data-stat=\"plus_minus\">0</td></tr>,\n",
       " <tr><th class=\"left\" csk=\"Foster,Jeff\" data-append-csv=\"fosteje01\" data-stat=\"player\" scope=\"row\"><a href=\"/players/f/fosteje01.html\">Jeff Foster</a></th><td class=\"right\" csk=\"553\" data-stat=\"mp\">9:13</td><td class=\"right\" data-stat=\"fg\">1</td><td class=\"right\" data-stat=\"fga\">2</td><td class=\"right\" data-stat=\"fg_pct\">.500</td><td class=\"right iz\" data-stat=\"fg3\">0</td><td class=\"right\" data-stat=\"fg3a\">1</td><td class=\"right iz\" data-stat=\"fg3_pct\">.000</td><td class=\"right\" data-stat=\"ft\">1</td><td class=\"right\" data-stat=\"fta\">3</td><td class=\"right\" data-stat=\"ft_pct\">.333</td><td class=\"right iz\" data-stat=\"orb\">0</td><td class=\"right\" data-stat=\"drb\">1</td><td class=\"right\" data-stat=\"trb\">1</td><td class=\"right\" data-stat=\"ast\">1</td><td class=\"right iz\" data-stat=\"stl\">0</td><td class=\"right\" data-stat=\"blk\">1</td><td class=\"right\" data-stat=\"tov\">1</td><td class=\"right\" data-stat=\"pf\">2</td><td class=\"right\" data-stat=\"pts\">3</td><td class=\"right\" data-stat=\"plus_minus\">+6</td></tr>,\n",
       " <tr><th class=\"left\" csk=\"Croshere,Austin\" data-append-csv=\"croshau01\" data-stat=\"player\" scope=\"row\"><a href=\"/players/c/croshau01.html\">Austin Croshere</a></th><td class=\"right\" csk=\"474\" data-stat=\"mp\">7:54</td><td class=\"right\" data-stat=\"fg\">2</td><td class=\"right\" data-stat=\"fga\">5</td><td class=\"right\" data-stat=\"fg_pct\">.400</td><td class=\"right\" data-stat=\"fg3\">1</td><td class=\"right\" data-stat=\"fg3a\">1</td><td class=\"right\" data-stat=\"fg3_pct\">1.000</td><td class=\"right iz\" data-stat=\"ft\">0</td><td class=\"right iz\" data-stat=\"fta\">0</td><td class=\"right iz\" data-stat=\"ft_pct\"></td><td class=\"right iz\" data-stat=\"orb\">0</td><td class=\"right\" data-stat=\"drb\">2</td><td class=\"right\" data-stat=\"trb\">2</td><td class=\"right iz\" data-stat=\"ast\">0</td><td class=\"right iz\" data-stat=\"stl\">0</td><td class=\"right iz\" data-stat=\"blk\">0</td><td class=\"right iz\" data-stat=\"tov\">0</td><td class=\"right\" data-stat=\"pf\">1</td><td class=\"right\" data-stat=\"pts\">5</td><td class=\"right\" data-stat=\"plus_minus\">-2</td></tr>,\n",
       " <tr><th class=\"left\" csk=\"Brezec,Primož\" data-append-csv=\"brezepr01\" data-stat=\"player\" scope=\"row\"><a href=\"/players/b/brezepr01.html\">Primož Brezec</a></th><td class=\"italic_text gray_text\" colspan=\"20\" data-stat=\"reason\">Did Not Play</td></tr>,\n",
       " <tr><th class=\"left\" csk=\"Mercer,Ron\" data-append-csv=\"mercero01\" data-stat=\"player\" scope=\"row\"><a href=\"/players/m/mercero01.html\">Ron Mercer</a></th><td class=\"italic_text gray_text\" colspan=\"20\" data-stat=\"reason\">Did Not Play</td></tr>,\n",
       " <tr><th class=\"left\" csk=\"Šundov,Bruno\" data-append-csv=\"sundobr01\" data-stat=\"player\" scope=\"row\"><a href=\"/players/s/sundobr01.html\">Bruno Šundov</a></th><td class=\"italic_text gray_text\" colspan=\"20\" data-stat=\"reason\">Did Not Play</td></tr>]"
      ]
     },
     "execution_count": 43,
     "metadata": {},
     "output_type": "execute_result"
    }
   ],
   "source": [
    "table.select(\"tbody > tr[class!='thead']\")\n",
    "# 'tr[class^=\"thead\"]'"
   ]
  },
  {
   "cell_type": "code",
   "execution_count": 16,
   "metadata": {},
   "outputs": [
    {
     "data": {
      "text/plain": [
       "{'home_team': 'home_team_sn',\n",
       " 'away_team': 'away_team_sn',\n",
       " 'home_team_full_name': 'home_team_fn',\n",
       " 'away_team_full_name': 'away_team_fn',\n",
       " 'game_time': datetime.datetime(2022, 4, 12, 19, 0),\n",
       " 'arena_name': 'Barclays Center',\n",
       " 'playin_game': True,\n",
       " 'attendance': 233412334}"
      ]
     },
     "execution_count": 16,
     "metadata": {},
     "output_type": "execute_result"
    }
   ],
   "source": [
    "{\n",
    "    \"home_team\": \"home_team_sn\",\n",
    "    \"away_team\": \"away_team_sn\",\n",
    "    \"home_team_full_name\": \"home_team_fn\",\n",
    "    \"away_team_full_name\": \"away_team_fn\",\n",
    "    **return_stmt,\n",
    "    \"attendance\": 233412334\n",
    "    }"
   ]
  }
 ],
 "metadata": {
  "kernelspec": {
   "display_name": "Python 3.10.4 ('venv': venv)",
   "language": "python",
   "name": "python3"
  },
  "language_info": {
   "codemirror_mode": {
    "name": "ipython",
    "version": 3
   },
   "file_extension": ".py",
   "mimetype": "text/x-python",
   "name": "python",
   "nbconvert_exporter": "python",
   "pygments_lexer": "ipython3",
   "version": "3.10.4"
  },
  "orig_nbformat": 4,
  "vscode": {
   "interpreter": {
    "hash": "279a21783db34fa2c30d87f95b617a48d50ac6fc323e3391f0c27a46bf33b304"
   }
  }
 },
 "nbformat": 4,
 "nbformat_minor": 2
}
